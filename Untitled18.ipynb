{
  "nbformat": 4,
  "nbformat_minor": 0,
  "metadata": {
    "colab": {
      "provenance": [],
      "authorship_tag": "ABX9TyP7ZFnxg31foo7mGWOogkzT",
      "include_colab_link": true
    },
    "kernelspec": {
      "name": "python3",
      "display_name": "Python 3"
    },
    "language_info": {
      "name": "python"
    }
  },
  "cells": [
    {
      "cell_type": "markdown",
      "metadata": {
        "id": "view-in-github",
        "colab_type": "text"
      },
      "source": [
        "<a href=\"https://colab.research.google.com/github/Yazhini35/ARTIFICIAL-INTELLIGENCE/blob/main/Untitled18.ipynb\" target=\"_parent\"><img src=\"https://colab.research.google.com/assets/colab-badge.svg\" alt=\"Open In Colab\"/></a>"
      ]
    },
    {
      "cell_type": "code",
      "execution_count": 1,
      "metadata": {
        "colab": {
          "base_uri": "https://localhost:8080/"
        },
        "id": "2qEFzGhCur2t",
        "outputId": "b230d590-7b11-4da6-be89-e8436e78db51"
      },
      "outputs": [
        {
          "output_type": "stream",
          "name": "stdout",
          "text": [
            "Original DataFrame:\n",
            "   A   B           C\n",
            "0  1   6       apple\n",
            "1  2   7      banana\n",
            "2  3   8      cherry\n",
            "3  4   9        date\n",
            "4  5  10  elderberry\n",
            "\n",
            "DataFrame after replacement:\n",
            "   A   B           C\n",
            "0  1   6       apple\n",
            "1  2  77      orange\n",
            "2  3   8      cherry\n",
            "3  4  99         fig\n",
            "4  5  10  elderberry\n"
          ]
        }
      ],
      "source": [
        "import pandas as pd\n",
        "\n",
        "# Sample DataFrame\n",
        "data = {'A': [1, 2, 3, 4, 5],\n",
        "        'B': [6, 7, 8, 9, 10],\n",
        "        'C': ['apple', 'banana', 'cherry', 'date', 'elderberry']}\n",
        "\n",
        "df = pd.DataFrame(data)\n",
        "\n",
        "# Display original DataFrame\n",
        "print(\"Original DataFrame:\")\n",
        "print(df)\n",
        "\n",
        "# Replace arbitrary values with other values\n",
        "replacement_dict = {'B': {7: 77, 9: 99}, 'C': {'banana': 'orange', 'date': 'fig'}}\n",
        "df.replace(replacement_dict, inplace=True)\n",
        "\n",
        "# Display modified DataFrame\n",
        "print(\"\\nDataFrame after replacement:\")\n",
        "print(df)\n"
      ]
    },
    {
      "cell_type": "code",
      "source": [
        "import pandas as pd\n",
        "\n",
        "# Sample DataFrame\n",
        "data = {'A': [1, 2, 3, 4, 5],\n",
        "        'B': [6, 7, 8, 9, 10],\n",
        "        'C': ['apple', 'banana', 'cherry', 'date', 'elderberry']}\n",
        "\n",
        "df = pd.DataFrame(data)\n",
        "\n",
        "# Display original DataFrame\n",
        "print(\"Original DataFrame:\")\n",
        "print(df)\n",
        "\n",
        "# Define replacement mappings\n",
        "replacement_dict = {'B': {7: 77, 9: 99}, 'C': {'banana': 'orange', 'date': 'fig'}}\n",
        "\n",
        "# Replace more than one value with other values\n",
        "for column, mappings in replacement_dict.items():\n",
        "    df[column].replace(mappings, inplace=True)\n",
        "\n",
        "# Display modified DataFrame\n",
        "print(\"\\nDataFrame after replacement:\")\n",
        "print(df)\n"
      ],
      "metadata": {
        "colab": {
          "base_uri": "https://localhost:8080/"
        },
        "id": "NFfux_dWvK-A",
        "outputId": "71ac0013-5c3d-4d34-e65a-46186af91ef4"
      },
      "execution_count": 2,
      "outputs": [
        {
          "output_type": "stream",
          "name": "stdout",
          "text": [
            "Original DataFrame:\n",
            "   A   B           C\n",
            "0  1   6       apple\n",
            "1  2   7      banana\n",
            "2  3   8      cherry\n",
            "3  4   9        date\n",
            "4  5  10  elderberry\n",
            "\n",
            "DataFrame after replacement:\n",
            "   A   B           C\n",
            "0  1   6       apple\n",
            "1  2  77      orange\n",
            "2  3   8      cherry\n",
            "3  4  99         fig\n",
            "4  5  10  elderberry\n"
          ]
        }
      ]
    },
    {
      "cell_type": "code",
      "source": [
        "import pandas as pd\n",
        "\n",
        "# Sample DataFrame with a column containing strings\n",
        "data = {'Name': ['John Doe', 'Jane Smith', 'Alice Johnson'],\n",
        "        'Age_Location': ['30_New York', '25_Los Angeles', '35_Chicago']}\n",
        "\n",
        "df = pd.DataFrame(data)\n",
        "\n",
        "# Display original DataFrame\n",
        "print(\"Original DataFrame:\")\n",
        "print(df)\n",
        "\n",
        "# Split the 'Age_Location' column into two separate columns\n",
        "df[['Age', 'Location']] = df['Age_Location'].str.split('_', expand=True)\n",
        "\n",
        "# Drop the original 'Age_Location' column\n",
        "df.drop(columns=['Age_Location'], inplace=True)\n",
        "\n",
        "# Display modified DataFrame\n",
        "print(\"\\nDataFrame after splitting:\")\n",
        "print(df)\n"
      ],
      "metadata": {
        "colab": {
          "base_uri": "https://localhost:8080/"
        },
        "id": "TXZCe_ClvbkM",
        "outputId": "a87625be-4915-4220-d9ef-f4e3a65c5056"
      },
      "execution_count": 3,
      "outputs": [
        {
          "output_type": "stream",
          "name": "stdout",
          "text": [
            "Original DataFrame:\n",
            "            Name    Age_Location\n",
            "0       John Doe     30_New York\n",
            "1     Jane Smith  25_Los Angeles\n",
            "2  Alice Johnson      35_Chicago\n",
            "\n",
            "DataFrame after splitting:\n",
            "            Name Age     Location\n",
            "0       John Doe  30     New York\n",
            "1     Jane Smith  25  Los Angeles\n",
            "2  Alice Johnson  35      Chicago\n"
          ]
        }
      ]
    },
    {
      "cell_type": "code",
      "source": [
        "import pandas as pd\n",
        "import re\n",
        "\n",
        "# Sample DataFrame with a column containing strings\n",
        "data = {'Text': ['Send an email to john@example.com for inquiries',\n",
        "                 'For more information, contact info@example.com',\n",
        "                 'Email support@company.com for assistance']}\n",
        "\n",
        "df = pd.DataFrame(data)\n",
        "\n",
        "# Display original DataFrame\n",
        "print(\"Original DataFrame:\")\n",
        "print(df)\n",
        "\n",
        "# Define a function to extract email addresses using regex\n",
        "def extract_email(text):\n",
        "    email_regex = r'\\b[A-Za-z0-9._%+-]+@[A-Za-z0-9.-]+\\.[A-Z|a-z]{2,}\\b'\n",
        "    return re.findall(email_regex, text)\n",
        "\n",
        "# Extract email addresses from the 'Text' column\n",
        "df['Email'] = df['Text'].apply(lambda x: extract_email(x))\n",
        "\n",
        "# Display DataFrame with extracted email addresses\n",
        "print(\"\\nDataFrame with extracted emails:\")\n",
        "print(df)\n"
      ],
      "metadata": {
        "colab": {
          "base_uri": "https://localhost:8080/"
        },
        "id": "CVFBsX1lvhxZ",
        "outputId": "bc79a6f9-3a4f-4439-d1bf-b373ca36e97a"
      },
      "execution_count": 4,
      "outputs": [
        {
          "output_type": "stream",
          "name": "stdout",
          "text": [
            "Original DataFrame:\n",
            "                                              Text\n",
            "0  Send an email to john@example.com for inquiries\n",
            "1   For more information, contact info@example.com\n",
            "2         Email support@company.com for assistance\n",
            "\n",
            "DataFrame with extracted emails:\n",
            "                                              Text                  Email\n",
            "0  Send an email to john@example.com for inquiries     [john@example.com]\n",
            "1   For more information, contact info@example.com     [info@example.com]\n",
            "2         Email support@company.com for assistance  [support@company.com]\n"
          ]
        }
      ]
    },
    {
      "cell_type": "code",
      "source": [
        "import pandas as pd\n",
        "import re\n",
        "\n",
        "# Sample DataFrame with a column containing Twitter text\n",
        "data = {'Tweet': ['Great weather today! #sunny #happy',\n",
        "                  'Excited for the weekend! #weekendvibes',\n",
        "                  'New recipe coming up! #cooking']}\n",
        "\n",
        "df = pd.DataFrame(data)\n",
        "\n",
        "# Display original DataFrame\n",
        "print(\"Original DataFrame:\")\n",
        "print(df)\n",
        "\n",
        "# Define a function to extract hashtags using regex\n",
        "def extract_hashtags(text):\n",
        "    hashtag_regex = r'\\B#\\w*[a-zA-Z]+\\w*'\n",
        "    return re.findall(hashtag_regex, text)\n",
        "\n",
        "# Extract hashtags from the 'Tweet' column\n",
        "df['Hashtags'] = df['Tweet'].apply(lambda x: extract_hashtags(x))\n",
        "\n",
        "# Display DataFrame with extracted hashtags\n",
        "print(\"\\nDataFrame with extracted hashtags:\")\n",
        "print(df)\n"
      ],
      "metadata": {
        "colab": {
          "base_uri": "https://localhost:8080/"
        },
        "id": "-uOmsRQovubU",
        "outputId": "e548c7e3-2490-4509-d2b2-5724d96d52c5"
      },
      "execution_count": 5,
      "outputs": [
        {
          "output_type": "stream",
          "name": "stdout",
          "text": [
            "Original DataFrame:\n",
            "                                    Tweet\n",
            "0      Great weather today! #sunny #happy\n",
            "1  Excited for the weekend! #weekendvibes\n",
            "2          New recipe coming up! #cooking\n",
            "\n",
            "DataFrame with extracted hashtags:\n",
            "                                    Tweet          Hashtags\n",
            "0      Great weather today! #sunny #happy  [#sunny, #happy]\n",
            "1  Excited for the weekend! #weekendvibes   [#weekendvibes]\n",
            "2          New recipe coming up! #cooking        [#cooking]\n"
          ]
        }
      ]
    },
    {
      "cell_type": "code",
      "source": [
        "import pandas as pd\n",
        "import re\n",
        "\n",
        "# Sample DataFrame with a column containing Twitter text\n",
        "data = {'Tweet': ['Great weather today! #sunny #happy',\n",
        "                  'Excited for the weekend! #weekendvibes',\n",
        "                  'New recipe coming up! #cooking']}\n",
        "\n",
        "df = pd.DataFrame(data)\n",
        "\n",
        "# Display original DataFrame\n",
        "print(\"Original DataFrame:\")\n",
        "print(df)\n",
        "\n",
        "# Define a function to extract hashtags using regex\n",
        "def extract_hashtags(text):\n",
        "    hashtag_regex = r'\\B#\\w*[a-zA-Z]+\\w*'\n",
        "    return re.findall(hashtag_regex, text)\n",
        "\n",
        "# Extract hashtags from the 'Tweet' column\n",
        "df['Hashtags'] = df['Tweet'].apply(lambda x: extract_hashtags(x))\n",
        "\n",
        "# Display DataFrame with extracted hashtags\n",
        "print(\"\\nDataFrame with extracted hashtags:\")\n",
        "print(df)\n"
      ],
      "metadata": {
        "colab": {
          "base_uri": "https://localhost:8080/"
        },
        "id": "8Sdy2H2zv065",
        "outputId": "daf02010-c1df-4fae-fc57-e1916f991264"
      },
      "execution_count": 6,
      "outputs": [
        {
          "output_type": "stream",
          "name": "stdout",
          "text": [
            "Original DataFrame:\n",
            "                                    Tweet\n",
            "0      Great weather today! #sunny #happy\n",
            "1  Excited for the weekend! #weekendvibes\n",
            "2          New recipe coming up! #cooking\n",
            "\n",
            "DataFrame with extracted hashtags:\n",
            "                                    Tweet          Hashtags\n",
            "0      Great weather today! #sunny #happy  [#sunny, #happy]\n",
            "1  Excited for the weekend! #weekendvibes   [#weekendvibes]\n",
            "2          New recipe coming up! #cooking        [#cooking]\n"
          ]
        }
      ]
    },
    {
      "cell_type": "code",
      "source": [
        "import pandas as pd\n",
        "import re\n",
        "\n",
        "# Sample DataFrame with a column containing mixed data\n",
        "data = {'Text': ['There are 10 apples', 'I have 20 oranges', 'She bought 5 bananas']}\n",
        "\n",
        "df = pd.DataFrame(data)\n",
        "\n",
        "# Display original DataFrame\n",
        "print(\"Original DataFrame:\")\n",
        "print(df)\n",
        "\n",
        "# Define a function to extract numbers using regex\n",
        "def extract_numbers(text):\n",
        "    numbers = re.findall(r'\\d+', text)\n",
        "    return ','.join(numbers) if numbers else None\n",
        "\n",
        "# Extract numbers from the 'Text' column\n",
        "df['Numbers'] = df['Text'].apply(extract_numbers)\n",
        "\n",
        "# Display DataFrame with extracted numbers\n",
        "print(\"\\nDataFrame with extracted numbers:\")\n",
        "print(df)\n"
      ],
      "metadata": {
        "colab": {
          "base_uri": "https://localhost:8080/"
        },
        "id": "cxTLoxKrwELg",
        "outputId": "1917d284-dd67-419c-ceb8-31b851f31b91"
      },
      "execution_count": 7,
      "outputs": [
        {
          "output_type": "stream",
          "name": "stdout",
          "text": [
            "Original DataFrame:\n",
            "                   Text\n",
            "0   There are 10 apples\n",
            "1     I have 20 oranges\n",
            "2  She bought 5 bananas\n",
            "\n",
            "DataFrame with extracted numbers:\n",
            "                   Text Numbers\n",
            "0   There are 10 apples      10\n",
            "1     I have 20 oranges      20\n",
            "2  She bought 5 bananas       5\n"
          ]
        }
      ]
    },
    {
      "cell_type": "code",
      "source": [
        "import pandas as pd\n",
        "import re\n",
        "\n",
        "# Sample DataFrame with a column containing mixed data\n",
        "data = {'Text': ['Call me at 123-456-7890', 'My number is (987) 654-3210', 'Contact us: +1 (555) 123-4567']}\n",
        "\n",
        "df = pd.DataFrame(data)\n",
        "\n",
        "# Display original DataFrame\n",
        "print(\"Original DataFrame:\")\n",
        "print(df)\n",
        "\n",
        "# Define a function to extract phone numbers using regex\n",
        "def extract_phone_numbers(text):\n",
        "    phone_numbers = re.findall(r'\\b\\d{3}[-.\\s]?\\d{3}[-.\\s]?\\d{4}\\b', text)\n",
        "    return ','.join(phone_numbers) if phone_numbers else None\n",
        "\n",
        "# Extract phone numbers from the 'Text' column\n",
        "df['Phone Numbers'] = df['Text'].apply(extract_phone_numbers)\n",
        "\n",
        "# Display DataFrame with extracted phone numbers\n",
        "print(\"\\nDataFrame with extracted phone numbers:\")\n",
        "print(df)\n"
      ],
      "metadata": {
        "colab": {
          "base_uri": "https://localhost:8080/"
        },
        "id": "h_Sp1eeQwMZI",
        "outputId": "9aa0de63-ffb1-4ab6-8929-084ae8866fa9"
      },
      "execution_count": 8,
      "outputs": [
        {
          "output_type": "stream",
          "name": "stdout",
          "text": [
            "Original DataFrame:\n",
            "                            Text\n",
            "0        Call me at 123-456-7890\n",
            "1    My number is (987) 654-3210\n",
            "2  Contact us: +1 (555) 123-4567\n",
            "\n",
            "DataFrame with extracted phone numbers:\n",
            "                            Text Phone Numbers\n",
            "0        Call me at 123-456-7890  123-456-7890\n",
            "1    My number is (987) 654-3210          None\n",
            "2  Contact us: +1 (555) 123-4567          None\n"
          ]
        }
      ]
    },
    {
      "cell_type": "code",
      "source": [
        "import pandas as pd\n",
        "import re\n",
        "\n",
        "# Sample DataFrame with a column containing text data\n",
        "data = {'Text': ['The year 1750 was historic', 'In 2000, we saw technological advancements',\n",
        "                 'Plans are set for the year 2100', 'The event took place in 1805']}\n",
        "\n",
        "df = pd.DataFrame(data)\n",
        "\n",
        "# Display original DataFrame\n",
        "print(\"Original DataFrame:\")\n",
        "print(df)\n",
        "\n",
        "# Define a function to extract years between 1800 and 2200 using regex\n",
        "def extract_years(text):\n",
        "    years = re.findall(r'\\b(18\\d{2}|19\\d{2}|20\\d{2}|21\\d{2})\\b', text)\n",
        "    filtered_years = [year for year in years if 1800 <= int(year) <= 2200]\n",
        "    return ','.join(filtered_years) if filtered_years else None\n",
        "\n",
        "# Extract years between 1800 and 2200 from the 'Text' column\n",
        "df['Years'] = df['Text'].apply(extract_years)\n",
        "\n",
        "# Display DataFrame with extracted years\n",
        "print(\"\\nDataFrame with extracted years between 1800 and 2200:\")\n",
        "print(df)\n"
      ],
      "metadata": {
        "colab": {
          "base_uri": "https://localhost:8080/"
        },
        "id": "25pEweZewUEH",
        "outputId": "cf76aee8-02d1-4f77-a3c3-fbe879186847"
      },
      "execution_count": 9,
      "outputs": [
        {
          "output_type": "stream",
          "name": "stdout",
          "text": [
            "Original DataFrame:\n",
            "                                         Text\n",
            "0                  The year 1750 was historic\n",
            "1  In 2000, we saw technological advancements\n",
            "2             Plans are set for the year 2100\n",
            "3                The event took place in 1805\n",
            "\n",
            "DataFrame with extracted years between 1800 and 2200:\n",
            "                                         Text Years\n",
            "0                  The year 1750 was historic  None\n",
            "1  In 2000, we saw technological advancements  2000\n",
            "2             Plans are set for the year 2100  2100\n",
            "3                The event took place in 1805  1805\n"
          ]
        }
      ]
    },
    {
      "cell_type": "code",
      "source": [
        "import pandas as pd\n",
        "import re\n",
        "\n",
        "# Sample DataFrame with a column containing text data\n",
        "data = {'Text': ['Hello! How are you?', 'I have $100 in my pocket.', 'This is #Pandas program!']}\n",
        "\n",
        "df = pd.DataFrame(data)\n",
        "\n",
        "# Display original DataFrame\n",
        "print(\"Original DataFrame:\")\n",
        "print(df)\n",
        "\n",
        "# Define a function to extract non-alphanumeric characters using regex\n",
        "def extract_non_alphanumeric(text):\n",
        "    non_alphanumeric = re.findall(r'[^a-zA-Z0-9\\s]+', text)\n",
        "    return ''.join(non_alphanumeric) if non_alphanumeric else None\n",
        "\n",
        "# Extract non-alphanumeric characters from the 'Text' column\n",
        "df['Non-Alphanumeric'] = df['Text'].apply(extract_non_alphanumeric)\n",
        "\n",
        "# Display DataFrame with extracted non-alphanumeric characters\n",
        "print(\"\\nDataFrame with extracted non-alphanumeric characters:\")\n",
        "print(df)\n"
      ],
      "metadata": {
        "colab": {
          "base_uri": "https://localhost:8080/"
        },
        "id": "IIrbq5z7weYo",
        "outputId": "99f14957-fe67-4ca1-a641-d9e8b9acfd8c"
      },
      "execution_count": 10,
      "outputs": [
        {
          "output_type": "stream",
          "name": "stdout",
          "text": [
            "Original DataFrame:\n",
            "                        Text\n",
            "0        Hello! How are you?\n",
            "1  I have $100 in my pocket.\n",
            "2   This is #Pandas program!\n",
            "\n",
            "DataFrame with extracted non-alphanumeric characters:\n",
            "                        Text Non-Alphanumeric\n",
            "0        Hello! How are you?               !?\n",
            "1  I have $100 in my pocket.               $.\n",
            "2   This is #Pandas program!               #!\n"
          ]
        }
      ]
    }
  ]
}